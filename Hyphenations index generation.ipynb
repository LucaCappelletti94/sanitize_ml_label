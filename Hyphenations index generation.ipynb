{
 "cells": [
  {
   "cell_type": "code",
   "execution_count": 1,
   "id": "5661573c",
   "metadata": {},
   "outputs": [],
   "source": [
    "import compress_json\n",
    "import os\n",
    "\n",
    "if os.path.exists(\"hyphenations.json\"):\n",
    "    compress_json.dump(\n",
    "        sorted(compress_json.load(\"hyphenations.json\")),\n",
    "        \"hyphenations.json.gz\"\n",
    "    )\n",
    "    os.remove(\"hyphenations.json\")\n",
    "\n",
    "index = {}\n",
    "for word in compress_json.load(\"hyphenations.json.gz\"):\n",
    "    word = word.lower()\n",
    "    index.setdefault(word[0], []).append((word, word[1:]))\n",
    "\n",
    "compress_json.dump(index, \"sanitize_ml_labels/hyphenated_words_index.json.gz\")"
   ]
  }
 ],
 "metadata": {
  "kernelspec": {
   "display_name": "Python 3 (ipykernel)",
   "language": "python",
   "name": "python3"
  },
  "language_info": {
   "codemirror_mode": {
    "name": "ipython",
    "version": 3
   },
   "file_extension": ".py",
   "mimetype": "text/x-python",
   "name": "python",
   "nbconvert_exporter": "python",
   "pygments_lexer": "ipython3",
   "version": "3.7.13"
  }
 },
 "nbformat": 4,
 "nbformat_minor": 5
}
